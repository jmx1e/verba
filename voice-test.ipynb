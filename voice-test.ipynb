{
 "cells": [
  {
   "cell_type": "markdown",
   "metadata": {},
   "source": [
    "# Voice-to-Report System for First Responders\n",
    "\n",
    "This notebook captures spoken incident reports and generates a structured report.\n",
    "\n",
    "## Setup\n",
    "- Installed: `speechrecognition`, `PyAudio`\n",
    "- Ensure a microphone is connected.\n",
    "- Run cells in sequence."
   ]
  },
  {
   "cell_type": "code",
   "execution_count": 2,
   "metadata": {},
   "outputs": [
    {
     "name": "stdout",
     "output_type": "stream",
     "text": [
      "/usr/local/bin/python3\n"
     ]
    }
   ],
   "source": [
    "import sys\n",
    "print(sys.executable)"
   ]
  },
  {
   "cell_type": "code",
   "execution_count": 13,
   "metadata": {},
   "outputs": [
    {
     "name": "stdout",
     "output_type": "stream",
     "text": [
      "3.14.3\n"
     ]
    }
   ],
   "source": [
    "import speech_recognition as sr\n",
    "print(sr.__version__)"
   ]
  },
  {
   "cell_type": "code",
   "execution_count": 4,
   "metadata": {},
   "outputs": [],
   "source": [
    "from datetime import datetime\n",
    "import re\n",
    "from IPython.display import display, Markdown"
   ]
  },
  {
   "cell_type": "code",
   "execution_count": 5,
   "metadata": {},
   "outputs": [],
   "source": [
    "recognizer = sr.Recognizer()\n",
    "\n",
    "def capture_voice_input():\n",
    "    \"\"\"Capture voice input from microphone and return transcribed text.\"\"\"\n",
    "    with sr.Microphone() as source:\n",
    "        print(\"Listening for incident report... (Speak clearly, say 'stop' to finish)\")\n",
    "        recognizer.adjust_for_ambient_noise(source, duration=2)  # Adjust for noise, longer duration\n",
    "        audio_data = []\n",
    "        \n",
    "        while True:\n",
    "            try:\n",
    "                print(\"Recording... Say your report or 'stop' to finish.\")\n",
    "                audio = recognizer.listen(source, timeout=5, phrase_time_limit=15)  # Increased phrase limit\n",
    "                print(\"Processing audio...\")\n",
    "                text = recognizer.recognize_google(audio)\n",
    "                print(f\"Transcribed: '{text}'\")  # Debug: Show what was transcribed\n",
    "                # Check for variations of 'stop' (case-insensitive, partial match)\n",
    "                if 'stop' in text.lower():\n",
    "                    print(\"Detected 'stop'. Ending recording.\")\n",
    "                    break\n",
    "                audio_data.append(text)\n",
    "            except sr.WaitTimeoutError:\n",
    "                print(\"No speech detected for 5 seconds. Still listening...\")\n",
    "            except sr.UnknownValueError:\n",
    "                print(\"Could not understand audio, please repeat.\")\n",
    "            except sr.RequestError as e:\n",
    "                print(f\"Speech recognition error: {e}\")\n",
    "                return None\n",
    "            except Exception as e:\n",
    "                print(f\"Unexpected error: {e}\")\n",
    "                return None\n",
    "        return \" \".join(audio_data) if audio_data else None"
   ]
  },
  {
   "cell_type": "code",
   "execution_count": 6,
   "metadata": {},
   "outputs": [
    {
     "name": "stdout",
     "output_type": "stream",
     "text": [
      "Listening for incident report... (Speak clearly, say 'stop' to finish)\n",
      "Recording... Say your report or 'stop' to finish.\n",
      "Processing audio...\n",
      "Transcribed: 'hello'\n",
      "Recording... Say your report or 'stop' to finish.\n",
      "Processing audio...\n",
      "Transcribed: 'incident on Main Street stop'\n",
      "Detected 'stop'. Ending recording.\n",
      "Final transcribed text: hello\n"
     ]
    }
   ],
   "source": [
    "transcription = capture_voice_input()\n",
    "print(\"Final transcribed text:\", transcription)"
   ]
  },
  {
   "cell_type": "code",
   "execution_count": 7,
   "metadata": {},
   "outputs": [],
   "source": [
    "def parse_transcription(text):\n",
    "    \"\"\"Parse transcribed text into structured report fields.\"\"\"\n",
    "    report = {\n",
    "        \"incident_type\": \"Not specified\",\n",
    "        \"location\": \"Not specified\",\n",
    "        \"time\": datetime.now().strftime(\"%Y-%m-%d %H:%M:%S\"),\n",
    "        \"description\": text,\n",
    "        \"actions_taken\": \"Not specified\"\n",
    "    }\n",
    "    text_lower = text.lower()\n",
    "    if \"fire\" in text_lower:\n",
    "        report[\"incident_type\"] = \"Fire\"\n",
    "    elif \"medical\" in text_lower or \"injury\" in text_lower:\n",
    "        report[\"incident_type\"] = \"Medical Emergency\"\n",
    "    elif \"accident\" in text_lower or \"crash\" in text_lower:\n",
    "        report[\"incident_type\"] = \"Traffic Accident\"\n",
    "    location_match = re.search(r\"(?:at|in|near)\\s+([a-zA-Z0-9\\s,]+)\", text_lower)\n",
    "    if location_match:\n",
    "        report[\"location\"] = location_match.group(1).capitalize()\n",
    "    return report"
   ]
  },
  {
   "cell_type": "code",
   "execution_count": 8,
   "metadata": {},
   "outputs": [
    {
     "name": "stdout",
     "output_type": "stream",
     "text": [
      "Parsed report: {'incident_type': 'Not specified', 'location': 'Not specified', 'time': '2025-06-20 20:12:09', 'description': 'hello', 'actions_taken': 'Not specified'}\n"
     ]
    }
   ],
   "source": [
    "if transcription:\n",
    "    report_data = parse_transcription(transcription)\n",
    "    print(\"Parsed report:\", report_data)\n",
    "else:\n",
    "    print(\"No transcription available to parse.\")"
   ]
  },
  {
   "cell_type": "code",
   "execution_count": 9,
   "metadata": {},
   "outputs": [],
   "source": [
    "def generate_report(report_data):\n",
    "    \"\"\"Generate a markdown report from structured data.\"\"\"\n",
    "    markdown = f\"\"\"# Incident Report\n",
    "**Date and Time:** {report_data['time']}\n",
    "**Incident Type:** {report_data['incident_type']}\n",
    "**Location:** {report_data['location']}\n",
    "**Description:** {report_data['description']}\n",
    "**Actions Taken:** {report_data['actions_taken']}\n",
    "\"\"\"\n",
    "    return markdown"
   ]
  },
  {
   "cell_type": "code",
   "execution_count": 10,
   "metadata": {},
   "outputs": [],
   "source": [
    "def save_report(markdown_content, filename=\"incident_report.md\"):\n",
    "    \"\"\"Save the report to a markdown file.\"\"\"\n",
    "    with open(filename, \"w\") as file:\n",
    "        file.write(markdown_content)\n",
    "    print(f\"Report saved as {filename}\")"
   ]
  },
  {
   "cell_type": "code",
   "execution_count": 17,
   "metadata": {},
   "outputs": [
    {
     "name": "stdout",
     "output_type": "stream",
     "text": [
      "/Users/amyz/Desktop/calhacks\n"
     ]
    }
   ],
   "source": [
    "import os\n",
    "print(os.getcwd())"
   ]
  },
  {
   "cell_type": "markdown",
   "metadata": {},
   "source": [
    "## Example Usage\n",
    "1. Run the final cell.\n",
    "2. Speak clearly, e.g., \"Fire at 456 Oak Avenue, smoke detected, stop.\"\n",
    "3. Check the displayed report and saved `incident_report.md`.\n",
    "\n",
    "## Example Output\n",
    "For input: \"Medical emergency at 123 Main Street, patient unconscious, stop.\"\n",
    "```markdown\n",
    "# Incident Report\n",
    "**Date and Time:** 2025-06-20 16:57:23\n",
    "**Incident Type:** Medical Emergency\n",
    "**Location:** 123 Main Street\n",
    "**Description:** Medical emergency at 123 Main Street, patient unconscious\n",
    "**Actions Taken:** Not specified"
   ]
  },
  {
   "cell_type": "code",
   "execution_count": 11,
   "metadata": {},
   "outputs": [
    {
     "name": "stdout",
     "output_type": "stream",
     "text": [
      "Listening for incident report... (Speak clearly, say 'stop' to finish)\n",
      "Recording... Say your report or 'stop' to finish.\n",
      "Processing audio...\n",
      "Transcribed: 'turn on Main Street'\n",
      "Recording... Say your report or 'stop' to finish.\n",
      "Processing audio...\n",
      "Transcribed: 'calling for backup'\n",
      "Recording... Say your report or 'stop' to finish.\n",
      "Processing audio...\n",
      "Could not understand audio, please repeat.\n",
      "Recording... Say your report or 'stop' to finish.\n",
      "Processing audio...\n",
      "Transcribed: 'stop'\n",
      "Detected 'stop'. Ending recording.\n"
     ]
    },
    {
     "data": {
      "text/markdown": [
       "# Incident Report\n",
       "**Date and Time:** 2025-06-20 20:12:38\n",
       "**Incident Type:** Not specified\n",
       "**Location:** Street calling for backup\n",
       "**Description:** turn on Main Street calling for backup\n",
       "**Actions Taken:** Not specified\n"
      ],
      "text/plain": [
       "<IPython.core.display.Markdown object>"
      ]
     },
     "metadata": {},
     "output_type": "display_data"
    },
    {
     "name": "stdout",
     "output_type": "stream",
     "text": [
      "Report saved as incident_report.md\n"
     ]
    }
   ],
   "source": [
    "transcription = capture_voice_input()\n",
    "if not transcription:\n",
    "    print(\"No valid transcription captured. Please try again.\")\n",
    "else:\n",
    "    report_data = parse_transcription(transcription)\n",
    "    report_content = generate_report(report_data)\n",
    "    display(Markdown(report_content))\n",
    "    save_report(report_content)"
   ]
  },
  {
   "cell_type": "code",
   "execution_count": 14,
   "metadata": {},
   "outputs": [
    {
     "ename": "NameError",
     "evalue": "name 'pyaudio' is not defined",
     "output_type": "error",
     "traceback": [
      "\u001b[0;31m---------------------------------------------------------------------------\u001b[0m",
      "\u001b[0;31mNameError\u001b[0m                                 Traceback (most recent call last)",
      "Cell \u001b[0;32mIn[14], line 1\u001b[0m\n\u001b[0;32m----> 1\u001b[0m p \u001b[38;5;241m=\u001b[39m \u001b[43mpyaudio\u001b[49m\u001b[38;5;241m.\u001b[39mPyAudio()\n\u001b[1;32m      3\u001b[0m \u001b[38;5;66;03m# List available audio devices\u001b[39;00m\n\u001b[1;32m      4\u001b[0m \u001b[38;5;28mprint\u001b[39m(\u001b[38;5;124m\"\u001b[39m\u001b[38;5;124mAvailable audio devices:\u001b[39m\u001b[38;5;124m\"\u001b[39m)\n",
      "\u001b[0;31mNameError\u001b[0m: name 'pyaudio' is not defined"
     ]
    }
   ],
   "source": [
    "p = pyaudio.PyAudio()\n",
    "\n",
    "# List available audio devices\n",
    "print(\"Available audio devices:\")\n",
    "for i in range(p.get_device_count()):\n",
    "    dev = p.get_device_info_by_index(i)\n",
    "    print(f\"Device {i}: {dev['name']}\")\n",
    "\n",
    "# Terminate PyAudio\n",
    "p.terminate()"
   ]
  },
  {
   "cell_type": "code",
   "execution_count": null,
   "metadata": {},
   "outputs": [],
   "source": []
  }
 ],
 "metadata": {
  "kernelspec": {
   "display_name": "Python 3",
   "language": "python",
   "name": "python3"
  },
  "language_info": {
   "codemirror_mode": {
    "name": "ipython",
    "version": 3
   },
   "file_extension": ".py",
   "mimetype": "text/x-python",
   "name": "python",
   "nbconvert_exporter": "python",
   "pygments_lexer": "ipython3",
   "version": "3.13.1"
  }
 },
 "nbformat": 4,
 "nbformat_minor": 2
}
