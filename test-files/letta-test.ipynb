{
 "cells": [
  {
   "cell_type": "code",
   "execution_count": 1,
   "metadata": {},
   "outputs": [
    {
     "name": "stdout",
     "output_type": "stream",
     "text": [
      "Letta client initialized.\n"
     ]
    }
   ],
   "source": [
    "\n",
    "# Cell 2: Import libraries and configure client\n",
    "from letta_client import Letta\n",
    "\n",
    "# Letta configuration\n",
    "LETTA_API_KEY = 'sk-let-ZjBjMGJlYzMtNTFlOS00ZDY2LWFkM2UtZDgwYmYzNzIxMzA0Ojc2NzljYjZkLTExYWItNDRmYi05NjUxLWU4NGJkMzJiMzg5MA=='  # Replace with your Letta Cloud API key\n",
    "AGENT_ID = 'agent-218d7622-b095-4323-bb3f-02571cc15190'  # Replace with your Letta agent ID\n",
    "# Initialize Letta client (defaults to https://api.letta.com)\n",
    "client = Letta(token=LETTA_API_KEY)\n",
    "\n",
    "print('Letta client initialized.')"
   ]
  },
  {
   "cell_type": "code",
   "execution_count": 64,
   "metadata": {},
   "outputs": [],
   "source": [
    "def process_letta_response(response):\n",
    "    for msg in response.messages:\n",
    "        if msg.message_type == 'assistant_message':\n",
    "            print(f'Letta Response: {msg.content}')\n",
    "            return msg.content\n",
    "        elif msg.message_type == 'tool_call_message':\n",
    "            print(f'Tool Called: {msg.tool_call.name} with args: {msg.tool_call.arguments}')\n",
    "        elif msg.message_type == 'tool_return_message':\n",
    "            print(f'Tool Return: {msg.tool_return}')\n",
    "    return None\n",
    "\n",
    "def send_message_to_letta(message: str, agent_id: str):\n",
    "    try:\n",
    "        response = client.agents.messages.create(\n",
    "            agent_id=agent_id,\n",
    "            messages=[{'role': 'user', 'content': message}]\n",
    "        )\n",
    "        return process_letta_response(response)\n",
    "    except Exception as e:\n",
    "        print(f'Error sending message to Letta: {e}')\n",
    "        return None"
   ]
  },
  {
   "cell_type": "code",
   "execution_count": 66,
   "metadata": {},
   "outputs": [
    {
     "name": "stdout",
     "output_type": "stream",
     "text": [
      "httpx - INFO - HTTP Request: POST https://api.letta.com/v1/agents/agent-218d7622-b095-4323-bb3f-02571cc15190/messages \"HTTP/1.1 200 OK\"\n",
      "Letta Response: The term SOBOE falls under the category of vitals.\n",
      "Final Response: The term SOBOE falls under the category of vitals.\n"
     ]
    }
   ],
   "source": [
    "response = send_message_to_letta('What category is SOBOE', AGENT_ID)\n",
    "print(f'Final Response: {response}')"
   ]
  },
  {
   "cell_type": "code",
   "execution_count": null,
   "metadata": {},
   "outputs": [],
   "source": []
  }
 ],
 "metadata": {
  "kernelspec": {
   "display_name": "Verba (Python 3.13)",
   "language": "python",
   "name": "verba"
  },
  "language_info": {
   "codemirror_mode": {
    "name": "ipython",
    "version": 3
   },
   "file_extension": ".py",
   "mimetype": "text/x-python",
   "name": "python",
   "nbconvert_exporter": "python",
   "pygments_lexer": "ipython3",
   "version": "3.13.5"
  }
 },
 "nbformat": 4,
 "nbformat_minor": 2
}
