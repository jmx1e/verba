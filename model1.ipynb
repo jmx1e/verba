{
 "cells": [
  {
   "cell_type": "code",
   "execution_count": 2,
   "metadata": {},
   "outputs": [],
   "source": [
    "import sys"
   ]
  },
  {
   "cell_type": "code",
   "execution_count": 3,
   "metadata": {},
   "outputs": [],
   "source": [
    "import json\n",
    "import os"
   ]
  },
  {
   "cell_type": "code",
   "execution_count": 4,
   "metadata": {},
   "outputs": [],
   "source": [
    "import pandas as pd"
   ]
  },
  {
   "cell_type": "code",
   "execution_count": 5,
   "metadata": {},
   "outputs": [],
   "source": [
    "input_file = 'gov-data.txt'\n",
    "output_json = 'formatted-gov-data.json'\n",
    "output_csv = 'formatted-gov-data.csv'"
   ]
  },
  {
   "cell_type": "code",
   "execution_count": 11,
   "metadata": {},
   "outputs": [
    {
     "name": "stdout",
     "output_type": "stream",
     "text": [
      "Sample formatted row:\n",
      "{'doc_id': '150', 'pmid': '144081', 'sentence': 'Carriers of G6PD deficiency are residents of 11 villages located in Alasani-Aphtalan valley, highly endemic with malaria in the past; nearly all marriages are endogamic.', 'text': 'malaria', 'umls_codes': ['C0024530'], 'umls_concept_name': 'Malaria', 'possible_alternative_codes': []}\n"
     ]
    }
   ],
   "source": [
    "import pandas as pd\n",
    "\n",
    "# Read tab-separated text file with alternative encoding\n",
    "try:\n",
    "    df = pd.read_csv(input_file, sep='\\t', encoding='latin1')  # Try 'latin1' first\n",
    "except UnicodeDecodeError:\n",
    "    print(\"latin1 failed, trying cp1252...\")\n",
    "    df = pd.read_csv(input_file, sep='\\t', encoding='cp1252')  # Fallback to 'cp1252'\n",
    "\n",
    "# Initialize list for formatted data\n",
    "data = []\n",
    "\n",
    "# Process each row\n",
    "for _, row in df.iterrows():\n",
    "    # Handle UMLS codes (split by commas or other delimiters)\n",
    "    umls_codes = [code.strip() for code in str(row['UMLS Code']).split(',') if code.strip() and code != 'nan']\n",
    "    # Handle possible alternative codes\n",
    "    alt_codes = [code.strip() for code in str(row['Possible Alternative Codes']).split(',') if code.strip() and code != 'nan']\n",
    "    # Create formatted row\n",
    "    formatted_row = {\n",
    "        'doc_id': str(row['Doc Id']),\n",
    "        'pmid': str(row['PMID']),\n",
    "        'sentence': str(row['Sentence']),\n",
    "        'text': str(row['Text']),\n",
    "        'umls_codes': umls_codes,\n",
    "        'umls_concept_name': str(row['UMLS Concept Name']),\n",
    "        'possible_alternative_codes': alt_codes\n",
    "    }\n",
    "    data.append(formatted_row)\n",
    "\n",
    "# Preview the first row\n",
    "print(\"Sample formatted row:\")\n",
    "print(data[334])"
   ]
  },
  {
   "cell_type": "code",
   "execution_count": 8,
   "metadata": {},
   "outputs": [
    {
     "name": "stdout",
     "output_type": "stream",
     "text": [
      "Saved JSON to formatted-gov-data.json\n"
     ]
    }
   ],
   "source": [
    "# Save to JSON\n",
    "with open(output_json, 'w', encoding='utf-8') as f:\n",
    "    json.dump(data, f, indent=2)\n",
    "print(f\"Saved JSON to {output_json}\")"
   ]
  },
  {
   "cell_type": "code",
   "execution_count": 9,
   "metadata": {},
   "outputs": [
    {
     "name": "stdout",
     "output_type": "stream",
     "text": [
      "Saved CSV to formatted-gov-data.csv\n"
     ]
    }
   ],
   "source": [
    "# Save to CSV using pandas\n",
    "df_output = pd.DataFrame(data)\n",
    "df_output.to_csv(output_csv, index=False, encoding='utf-8')\n",
    "print(f\"Saved CSV to {output_csv}\")"
   ]
  },
  {
   "cell_type": "code",
   "execution_count": 15,
   "metadata": {},
   "outputs": [
    {
     "name": "stdout",
     "output_type": "stream",
     "text": [
      "Formatted text file saved to umls-extensions.txt\n"
     ]
    }
   ],
   "source": [
    "import csv\n",
    "\n",
    "# Input and output files\n",
    "input_file = \"umls-extensions.txt\"\n",
    "output_file = \"umls-extensions.csv\"\n",
    "\n",
    "# Read input and write CSV\n",
    "with open(input_file, \"r\", encoding=\"utf-8\") as infile, \\\n",
    "     open(output_file, \"w\", encoding=\"utf-8\", newline=\"\") as outfile:\n",
    "    writer = csv.writer(outfile)\n",
    "    # Write headers\n",
    "    writer.writerow([\"Category\", \"Phrase\"])\n",
    "    \n",
    "    # Process each line\n",
    "    for line in infile:\n",
    "        # Split tab-separated line\n",
    "        parts = line.strip().split(\"\\t\")\n",
    "        if len(parts) == 2:  # Ensure valid line\n",
    "            writer.writerow(parts)\n",
    "\n",
    "print(f\"CSV file saved to {output_file}\")"
   ]
  },
  {
   "cell_type": "code",
   "execution_count": null,
   "metadata": {},
   "outputs": [],
   "source": [
    "import csv\n",
    "\n",
    "# Input and output files\n",
    "input_file = \"umls-extensions.csv\"\n",
    "output_file = \"umls-extensions.txt\"\n",
    "\n",
    "# Read CSV and write text\n",
    "with open(input_file, \"r\", encoding=\"utf-8\") as infile, \\\n",
    "     open(output_file, \"w\", encoding=\"utf-8\") as outfile:\n",
    "    reader = csv.reader(infile)\n",
    "    # Skip header if present\n",
    "    header = next(reader, None)  # Read first row, None if empty\n",
    "    has_header = header and len(header) == 2 and header[0].lower() == \"category\" and header[1].lower() == \"term\"\n",
    "    if not has_header and header:\n",
    "        # If no header, process first row as data\n",
    "        infile.seek(0)  # Reset to start\n",
    "    \n",
    "    # Process each row\n",
    "    for row in reader:\n",
    "        if len(row) == 2:  # Ensure valid row\n",
    "            category, term = row\n",
    "            outfile.write(f\"If you hear the phrase {term}, then the category is {category}.\\n\")\n",
    "\n",
    "print(f\"Formatted text file saved to {output_file}\")"
   ]
  },
  {
   "cell_type": "code",
   "execution_count": 18,
   "metadata": {},
   "outputs": [],
   "source": [
    "from letta import LettaMessage"
   ]
  },
  {
   "cell_type": "code",
   "execution_count": null,
   "metadata": {},
   "outputs": [],
   "source": []
  }
 ],
 "metadata": {
  "kernelspec": {
   "display_name": "verba",
   "language": "python",
   "name": "python3"
  },
  "language_info": {
   "codemirror_mode": {
    "name": "ipython",
    "version": 3
   },
   "file_extension": ".py",
   "mimetype": "text/x-python",
   "name": "python",
   "nbconvert_exporter": "python",
   "pygments_lexer": "ipython3",
   "version": "3.13.5"
  }
 },
 "nbformat": 4,
 "nbformat_minor": 2
}
